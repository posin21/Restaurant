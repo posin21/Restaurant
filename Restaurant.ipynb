{
    "metadata": {
        "kernelspec": {
            "name": "SQL",
            "display_name": "SQL",
            "language": "sql"
        },
        "language_info": {
            "name": "sql",
            "version": ""
        }
    },
    "nbformat_minor": 2,
    "nbformat": 4,
    "cells": [
        {
            "cell_type": "code",
            "source": [
                "create database RestaurantDB"
            ],
            "metadata": {
                "azdata_cell_guid": "4b067102-d2b3-4379-8035-3053a44757d5",
                "language": "sql"
            },
            "outputs": [
                {
                    "output_type": "error",
                    "ename": "",
                    "evalue": "Msg 1801, Level 16, State 3, Line 1\r\nDatabase 'RestaurantDB' already exists. Choose a different database name.",
                    "traceback": []
                },
                {
                    "output_type": "display_data",
                    "data": {
                        "text/html": "Total execution time: 00:00:00.006"
                    },
                    "metadata": {}
                }
            ],
            "execution_count": 2
        },
        {
            "cell_type": "code",
            "source": [
                "use RestaurantDB"
            ],
            "metadata": {
                "azdata_cell_guid": "9049436d-a4be-4dd3-95e6-2addd1084ca0",
                "language": "sql"
            },
            "outputs": [
                {
                    "output_type": "display_data",
                    "data": {
                        "text/html": "Commands completed successfully."
                    },
                    "metadata": {}
                },
                {
                    "output_type": "display_data",
                    "data": {
                        "text/html": "Total execution time: 00:00:00.003"
                    },
                    "metadata": {}
                }
            ],
            "execution_count": 2
        },
        {
            "cell_type": "code",
            "source": [
                "drop table if exists ChefInventory;\r\n",
                "drop table if exists OrderChef;\r\n",
                "drop table if exists MenuOrder;\r\n",
                "drop table if exists Payment;\r\n",
                "drop table if exists Employee;\r\n",
                "drop table if exists CustomerTable;\r\n",
                "drop table if exists Orders;\r\n",
                "drop table if exists Tables;\r\n",
                "drop table if exists Customer;\r\n",
                "drop table if exists Menu;\r\n",
                "drop table if exists Inventory;\r\n",
                "drop table if exists Supplier;\r\n",
                "drop table if exists Chef;\r\n",
                ""
            ],
            "metadata": {
                "language": "sql",
                "azdata_cell_guid": "baea7cc7-57c5-431a-9a4b-fa9e17986100",
                "tags": []
            },
            "outputs": [
                {
                    "output_type": "display_data",
                    "data": {
                        "text/html": "Commands completed successfully."
                    },
                    "metadata": {}
                },
                {
                    "output_type": "display_data",
                    "data": {
                        "text/html": "Total execution time: 00:00:00.020"
                    },
                    "metadata": {}
                }
            ],
            "execution_count": 21
        },
        {
            "cell_type": "code",
            "source": [
                "create table Menu (\r\n",
                "    menuID int primary key,\r\n",
                "    menuName varchar(255),\r\n",
                "    price int,\r\n",
                "    category varchar(255)\r\n",
                ");\r\n",
                "\r\n",
                "\r\n",
                "create table Customer (\r\n",
                "    customerID int primary key,\r\n",
                "    name varchar(255),\r\n",
                "    age int\r\n",
                ");\r\n",
                "\r\n",
                "create table Tables (\r\n",
                "    tableID int primary key,\r\n",
                "    capacity int,\r\n",
                "    status varchar(255)\r\n",
                ");\r\n",
                "\r\n",
                "create table CustomerTable (\r\n",
                "    tableID int,\r\n",
                "    customerID int,\r\n",
                "    primary key (tableID, customerID),\r\n",
                "    foreign key (tableID) references Tables(tableID),\r\n",
                "    foreign key (customerID) references Customer(customerID)\r\n",
                ");\r\n",
                "\r\n",
                "create table Orders (\r\n",
                "    orderID int primary key,\r\n",
                "    orderDateTime datetime,\r\n",
                "    orderDay varchar(255),\r\n",
                "    menuStatus varchar(255),\r\n",
                "    customerID int,\r\n",
                "    foreign key (customerID) references Customer(customerID)\r\n",
                ");\r\n",
                "\r\n",
                "create table MenuOrder (\r\n",
                "    menuID int,\r\n",
                "    orderID int,\r\n",
                "    primary key (menuID, orderID),\r\n",
                "    foreign key (menuID) references Menu(menuID),\r\n",
                "    foreign key (orderID) references Orders(orderID)\r\n",
                ");\r\n",
                "\r\n",
                "create table Payment (\r\n",
                "    paymentID int primary key,\r\n",
                "    orderID int unique,\r\n",
                "    amount int,\r\n",
                "    paymentMethod varchar(255),\r\n",
                "    paymentDateTime datetime,\r\n",
                "    foreign key (orderID) references Orders(orderID)\r\n",
                ");\r\n",
                "\r\n",
                "create table Employee (\r\n",
                "    employeeID int primary key,\r\n",
                "    name varchar(255),\r\n",
                "    role varchar(255),\r\n",
                "    shift varchar(255),\r\n",
                "    salary int,\r\n",
                "    currentTables int,\r\n",
                "    orderID int,\r\n",
                "    foreign key (orderID) references Orders(orderID)\r\n",
                ");\r\n",
                "\r\n",
                "create table Chef (\r\n",
                "    chefID int primary key,\r\n",
                "    name varchar(255),\r\n",
                "    salary int\r\n",
                ");\r\n",
                "\r\n",
                "create table OrderChef (\r\n",
                "    orderID int,\r\n",
                "    chefID int,\r\n",
                "    primary key (orderID, chefID),\r\n",
                "    foreign key (orderID) references Orders(orderID),\r\n",
                "    foreign key (chefID) references Chef(chefID)\r\n",
                ");\r\n",
                "\r\n",
                "create table Supplier (\r\n",
                "    supplierID int primary key,\r\n",
                "    name varchar(255),\r\n",
                "    contactInfo varchar(255)\r\n",
                ");\r\n",
                "\r\n",
                "create table Inventory (\r\n",
                "    itemID int primary key,\r\n",
                "    name varchar(255),\r\n",
                "    quantity int,\r\n",
                "    supplierID1 int,\r\n",
                "    supplierID2 int,\r\n",
                "    lastRestockDate datetime,\r\n",
                "    foreign key (supplierID1) references supplier(supplierID),\r\n",
                "    foreign key (supplierID2) references supplier(supplierID)\r\n",
                ");\r\n",
                "\r\n",
                "create table ChefInventory (\r\n",
                "    chefID int,  \r\n",
                "    itemID int,\r\n",
                "    primary key (chefID, itemID),\r\n",
                "    foreign key (chefID) references Chef(chefID),\r\n",
                "    foreign key (itemID) references Inventory(itemID)\r\n",
                ");"
            ],
            "metadata": {
                "azdata_cell_guid": "e521cbcc-1317-491e-ab37-43e6ba2324c5",
                "language": "sql",
                "tags": []
            },
            "outputs": [
                {
                    "output_type": "display_data",
                    "data": {
                        "text/html": "Commands completed successfully."
                    },
                    "metadata": {}
                },
                {
                    "output_type": "display_data",
                    "data": {
                        "text/html": "Total execution time: 00:00:00.025"
                    },
                    "metadata": {}
                }
            ],
            "execution_count": 22
        },
        {
            "cell_type": "code",
            "source": [
                "delete from ChefInventory;\r\n",
                "delete from OrderChef;\r\n",
                "delete from MenuOrder;\r\n",
                "delete from Payment;\r\n",
                "delete from Employee;\r\n",
                "delete from CustomerTable;\r\n",
                "delete from Orders;\r\n",
                "delete from Tables;\r\n",
                "delete from Customer;\r\n",
                "delete from Menu;\r\n",
                "delete from Inventory;\r\n",
                "delete from Supplier;\r\n",
                "delete from Chef;\r\n",
                ""
            ],
            "metadata": {
                "azdata_cell_guid": "64677559-0912-4797-b906-159d781ab1c4",
                "language": "sql"
            },
            "outputs": [
                {
                    "output_type": "display_data",
                    "data": {
                        "text/html": "(3 rows affected)"
                    },
                    "metadata": {}
                },
                {
                    "output_type": "display_data",
                    "data": {
                        "text/html": "(2 rows affected)"
                    },
                    "metadata": {}
                },
                {
                    "output_type": "display_data",
                    "data": {
                        "text/html": "(3 rows affected)"
                    },
                    "metadata": {}
                },
                {
                    "output_type": "display_data",
                    "data": {
                        "text/html": "(2 rows affected)"
                    },
                    "metadata": {}
                },
                {
                    "output_type": "display_data",
                    "data": {
                        "text/html": "(2 rows affected)"
                    },
                    "metadata": {}
                },
                {
                    "output_type": "display_data",
                    "data": {
                        "text/html": "(0 rows affected)"
                    },
                    "metadata": {}
                },
                {
                    "output_type": "display_data",
                    "data": {
                        "text/html": "(2 rows affected)"
                    },
                    "metadata": {}
                },
                {
                    "output_type": "display_data",
                    "data": {
                        "text/html": "(2 rows affected)"
                    },
                    "metadata": {}
                },
                {
                    "output_type": "display_data",
                    "data": {
                        "text/html": "(3 rows affected)"
                    },
                    "metadata": {}
                },
                {
                    "output_type": "display_data",
                    "data": {
                        "text/html": "(3 rows affected)"
                    },
                    "metadata": {}
                },
                {
                    "output_type": "display_data",
                    "data": {
                        "text/html": "(3 rows affected)"
                    },
                    "metadata": {}
                },
                {
                    "output_type": "display_data",
                    "data": {
                        "text/html": "(2 rows affected)"
                    },
                    "metadata": {}
                },
                {
                    "output_type": "display_data",
                    "data": {
                        "text/html": "(2 rows affected)"
                    },
                    "metadata": {}
                },
                {
                    "output_type": "display_data",
                    "data": {
                        "text/html": "Total execution time: 00:00:02.038"
                    },
                    "metadata": {}
                }
            ],
            "execution_count": 34
        },
        {
            "cell_type": "markdown",
            "source": [
                "**Test insertion**"
            ],
            "metadata": {
                "azdata_cell_guid": "5f147cb7-5d17-46c7-b2d8-ad36b3abedea"
            },
            "attachments": {}
        },
        {
            "cell_type": "code",
            "source": [
                "insert into Menu (menuID, menuName, price, category) \r\n",
                "values\r\n",
                "(1, 'Salmon sushi', 150, 'Nigiri'),\r\n",
                "(2, 'Shrimp sushi', 250, 'Nigiri'),\r\n",
                "(3, 'Salmon', 200, 'Sashimi');\r\n",
                "\r\n",
                "insert into Customer (customerID, name, age) \r\n",
                "values\r\n",
                "(1, 'John Doe', 30),\r\n",
                "(2, 'Jane Smith', 25),\r\n",
                "(3, 'Jame Dane', 24);\r\n",
                "\r\n",
                "insert into Tables (tableID, capacity, status) \r\n",
                "values\r\n",
                "(1, 4, 'Available'),\r\n",
                "(2, 2, 'Occupied');\r\n",
                "\r\n",
                "insert into CustomerTable (tableID, customerID) \r\n",
                "values\r\n",
                "(1, 1),\r\n",
                "(2, 2),\r\n",
                "(1, 3);\r\n",
                "\r\n",
                "insert into Orders (orderID, orderDateTime, orderDay, menuStatus, customerID) \r\n",
                "values\r\n",
                "(101, '2025-03-29 12:30:00', 'Saturday', 'Preparing', 1),\r\n",
                "(102, '2025-03-29 13:15:00', 'Saturday', 'Completed', 2);\r\n",
                "\r\n",
                "insert into MenuOrder (menuID, orderID) \r\n",
                "values\r\n",
                "(1, 101),  \r\n",
                "(2, 101),  \r\n",
                "(3, 102);  \r\n",
                "\r\n",
                "insert into Payment (paymentID, orderID, amount, paymentMethod, paymentDateTime) \r\n",
                "values\r\n",
                "(1, 101, 400, 'Credit Card', '2025-03-29 12:45:00'),\r\n",
                "(2, 102, 200, 'Cash', '2025-03-29 13:30:00');\r\n",
                "\r\n",
                "insert into Employee (employeeID, name, role, shift, salary, currentTables, orderID) \r\n",
                "values\r\n",
                "(1, 'Alice', 'Waiter', 'Morning', 15000, 2, 101),\r\n",
                "(2, 'Bob', 'Waiter', 'Afternoon', 16000, 1, 102);\r\n",
                "\r\n",
                "insert into Chef (chefID, name, salary) \r\n",
                "values\r\n",
                "(1, 'Gordon', 50000),\r\n",
                "(2, 'Jamie', 45000);\r\n",
                "\r\n",
                "insert into OrderChef (orderID, chefID) \r\n",
                "values\r\n",
                "(101, 1), \r\n",
                "(102, 2);  \r\n",
                "\r\n",
                "insert into Supplier (supplierID, name, contactInfo) \r\n",
                "values\r\n",
                "(1, 'Fresh Foods Inc.', '123-456-7890'),\r\n",
                "(2, 'Best Ingredients Ltd.', '987-654-3210');\r\n",
                "\r\n",
                "insert into Inventory (itemID, name, quantity, supplierID1, supplierID2, lastRestockDate) \r\n",
                "values\r\n",
                "(1, 'Rice', 100, 1, 2, '2025-03-25'),\r\n",
                "(2, 'Seaweed', 50, 2, NULL, '2025-03-26'),\r\n",
                "(3, 'Salmon', 70, 1, NULL, '2025-03-27');\r\n",
                "\r\n",
                "insert into ChefInventory (chefID, itemID) \r\n",
                "values\r\n",
                "(1, 1),  \r\n",
                "(2, 2),  \r\n",
                "(2, 3);  \r\n",
                "\r\n",
                ""
            ],
            "metadata": {
                "language": "sql",
                "azdata_cell_guid": "b378f6f3-46be-4293-a068-71cddb77bf9e",
                "tags": []
            },
            "outputs": [
                {
                    "output_type": "display_data",
                    "data": {
                        "text/html": "(3 rows affected)"
                    },
                    "metadata": {}
                },
                {
                    "output_type": "display_data",
                    "data": {
                        "text/html": "(3 rows affected)"
                    },
                    "metadata": {}
                },
                {
                    "output_type": "display_data",
                    "data": {
                        "text/html": "(2 rows affected)"
                    },
                    "metadata": {}
                },
                {
                    "output_type": "display_data",
                    "data": {
                        "text/html": "(3 rows affected)"
                    },
                    "metadata": {}
                },
                {
                    "output_type": "display_data",
                    "data": {
                        "text/html": "(2 rows affected)"
                    },
                    "metadata": {}
                },
                {
                    "output_type": "display_data",
                    "data": {
                        "text/html": "(3 rows affected)"
                    },
                    "metadata": {}
                },
                {
                    "output_type": "display_data",
                    "data": {
                        "text/html": "(2 rows affected)"
                    },
                    "metadata": {}
                },
                {
                    "output_type": "display_data",
                    "data": {
                        "text/html": "(2 rows affected)"
                    },
                    "metadata": {}
                },
                {
                    "output_type": "display_data",
                    "data": {
                        "text/html": "(2 rows affected)"
                    },
                    "metadata": {}
                },
                {
                    "output_type": "display_data",
                    "data": {
                        "text/html": "(2 rows affected)"
                    },
                    "metadata": {}
                },
                {
                    "output_type": "display_data",
                    "data": {
                        "text/html": "(2 rows affected)"
                    },
                    "metadata": {}
                },
                {
                    "output_type": "display_data",
                    "data": {
                        "text/html": "(3 rows affected)"
                    },
                    "metadata": {}
                },
                {
                    "output_type": "display_data",
                    "data": {
                        "text/html": "(3 rows affected)"
                    },
                    "metadata": {}
                },
                {
                    "output_type": "display_data",
                    "data": {
                        "text/html": "Total execution time: 00:00:00.029"
                    },
                    "metadata": {}
                }
            ],
            "execution_count": 35
        },
        {
            "cell_type": "code",
            "source": [
                "select * from Menu;\r\n",
                "select * from Customer;\r\n",
                "select * from Tables;\r\n",
                "select * from CustomerTable;\r\n",
                "select * from Orders;\r\n",
                "select * from MenuOrder;\r\n",
                "select * from Payment;\r\n",
                "select * from Employee;\r\n",
                "select * from Chef;\r\n",
                "select * from OrderChef;\r\n",
                "select * from Supplier;\r\n",
                "select * from Inventory;\r\n",
                "select * from ChefInventory;\r\n",
                ""
            ],
            "metadata": {
                "language": "sql",
                "azdata_cell_guid": "e8d3e52a-f7d7-4c21-906f-d21b44b8936a"
            },
            "outputs": [
                {
                    "output_type": "display_data",
                    "data": {
                        "text/html": "(3 rows affected)"
                    },
                    "metadata": {}
                },
                {
                    "output_type": "display_data",
                    "data": {
                        "text/html": "(3 rows affected)"
                    },
                    "metadata": {}
                },
                {
                    "output_type": "display_data",
                    "data": {
                        "text/html": "(2 rows affected)"
                    },
                    "metadata": {}
                },
                {
                    "output_type": "display_data",
                    "data": {
                        "text/html": "(3 rows affected)"
                    },
                    "metadata": {}
                },
                {
                    "output_type": "display_data",
                    "data": {
                        "text/html": "(2 rows affected)"
                    },
                    "metadata": {}
                },
                {
                    "output_type": "display_data",
                    "data": {
                        "text/html": "(3 rows affected)"
                    },
                    "metadata": {}
                },
                {
                    "output_type": "display_data",
                    "data": {
                        "text/html": "(2 rows affected)"
                    },
                    "metadata": {}
                },
                {
                    "output_type": "display_data",
                    "data": {
                        "text/html": "(2 rows affected)"
                    },
                    "metadata": {}
                },
                {
                    "output_type": "display_data",
                    "data": {
                        "text/html": "(2 rows affected)"
                    },
                    "metadata": {}
                },
                {
                    "output_type": "display_data",
                    "data": {
                        "text/html": "(2 rows affected)"
                    },
                    "metadata": {}
                },
                {
                    "output_type": "display_data",
                    "data": {
                        "text/html": "(2 rows affected)"
                    },
                    "metadata": {}
                },
                {
                    "output_type": "display_data",
                    "data": {
                        "text/html": "(3 rows affected)"
                    },
                    "metadata": {}
                },
                {
                    "output_type": "display_data",
                    "data": {
                        "text/html": "(3 rows affected)"
                    },
                    "metadata": {}
                },
                {
                    "output_type": "display_data",
                    "data": {
                        "text/html": "Total execution time: 00:00:00.073"
                    },
                    "metadata": {}
                },
                {
                    "output_type": "execute_result",
                    "execution_count": 36,
                    "data": {
                        "application/vnd.dataresource+json": {
                            "schema": {
                                "fields": [
                                    {
                                        "name": "menuID"
                                    },
                                    {
                                        "name": "menuName"
                                    },
                                    {
                                        "name": "price"
                                    },
                                    {
                                        "name": "category"
                                    }
                                ]
                            },
                            "data": [
                                {
                                    "menuID": "1",
                                    "menuName": "Salmon sushi",
                                    "price": "150",
                                    "category": "Nigiri"
                                },
                                {
                                    "menuID": "2",
                                    "menuName": "Shrimp sushi",
                                    "price": "250",
                                    "category": "Nigiri"
                                },
                                {
                                    "menuID": "3",
                                    "menuName": "Salmon",
                                    "price": "200",
                                    "category": "Sashimi"
                                }
                            ]
                        },
                        "text/html": "<table><tr><th>menuID</th><th>menuName</th><th>price</th><th>category</th></tr><tr><td>1</td><td>Salmon sushi</td><td>150</td><td>Nigiri</td></tr><tr><td>2</td><td>Shrimp sushi</td><td>250</td><td>Nigiri</td></tr><tr><td>3</td><td>Salmon</td><td>200</td><td>Sashimi</td></tr></table>"
                    },
                    "metadata": {}
                },
                {
                    "output_type": "execute_result",
                    "execution_count": 36,
                    "data": {
                        "application/vnd.dataresource+json": {
                            "schema": {
                                "fields": [
                                    {
                                        "name": "customerID"
                                    },
                                    {
                                        "name": "name"
                                    },
                                    {
                                        "name": "age"
                                    }
                                ]
                            },
                            "data": [
                                {
                                    "customerID": "1",
                                    "name": "John Doe",
                                    "age": "30"
                                },
                                {
                                    "customerID": "2",
                                    "name": "Jane Smith",
                                    "age": "25"
                                },
                                {
                                    "customerID": "3",
                                    "name": "Jame Dane",
                                    "age": "24"
                                }
                            ]
                        },
                        "text/html": "<table><tr><th>customerID</th><th>name</th><th>age</th></tr><tr><td>1</td><td>John Doe</td><td>30</td></tr><tr><td>2</td><td>Jane Smith</td><td>25</td></tr><tr><td>3</td><td>Jame Dane</td><td>24</td></tr></table>"
                    },
                    "metadata": {}
                },
                {
                    "output_type": "execute_result",
                    "execution_count": 36,
                    "data": {
                        "application/vnd.dataresource+json": {
                            "schema": {
                                "fields": [
                                    {
                                        "name": "tableID"
                                    },
                                    {
                                        "name": "capacity"
                                    },
                                    {
                                        "name": "status"
                                    }
                                ]
                            },
                            "data": [
                                {
                                    "tableID": "1",
                                    "capacity": "4",
                                    "status": "Available"
                                },
                                {
                                    "tableID": "2",
                                    "capacity": "2",
                                    "status": "Occupied"
                                }
                            ]
                        },
                        "text/html": "<table><tr><th>tableID</th><th>capacity</th><th>status</th></tr><tr><td>1</td><td>4</td><td>Available</td></tr><tr><td>2</td><td>2</td><td>Occupied</td></tr></table>"
                    },
                    "metadata": {}
                },
                {
                    "output_type": "execute_result",
                    "execution_count": 36,
                    "data": {
                        "application/vnd.dataresource+json": {
                            "schema": {
                                "fields": [
                                    {
                                        "name": "tableID"
                                    },
                                    {
                                        "name": "customerID"
                                    }
                                ]
                            },
                            "data": [
                                {
                                    "tableID": "1",
                                    "customerID": "1"
                                },
                                {
                                    "tableID": "1",
                                    "customerID": "3"
                                },
                                {
                                    "tableID": "2",
                                    "customerID": "2"
                                }
                            ]
                        },
                        "text/html": "<table><tr><th>tableID</th><th>customerID</th></tr><tr><td>1</td><td>1</td></tr><tr><td>1</td><td>3</td></tr><tr><td>2</td><td>2</td></tr></table>"
                    },
                    "metadata": {}
                },
                {
                    "output_type": "execute_result",
                    "execution_count": 36,
                    "data": {
                        "application/vnd.dataresource+json": {
                            "schema": {
                                "fields": [
                                    {
                                        "name": "orderID"
                                    },
                                    {
                                        "name": "orderDateTime"
                                    },
                                    {
                                        "name": "orderDay"
                                    },
                                    {
                                        "name": "menuStatus"
                                    },
                                    {
                                        "name": "customerID"
                                    }
                                ]
                            },
                            "data": [
                                {
                                    "orderID": "101",
                                    "orderDateTime": "2025-03-29 12:30:00.000",
                                    "orderDay": "Saturday",
                                    "menuStatus": "Preparing",
                                    "customerID": "1"
                                },
                                {
                                    "orderID": "102",
                                    "orderDateTime": "2025-03-29 13:15:00.000",
                                    "orderDay": "Saturday",
                                    "menuStatus": "Completed",
                                    "customerID": "2"
                                }
                            ]
                        },
                        "text/html": "<table><tr><th>orderID</th><th>orderDateTime</th><th>orderDay</th><th>menuStatus</th><th>customerID</th></tr><tr><td>101</td><td>2025-03-29 12:30:00.000</td><td>Saturday</td><td>Preparing</td><td>1</td></tr><tr><td>102</td><td>2025-03-29 13:15:00.000</td><td>Saturday</td><td>Completed</td><td>2</td></tr></table>"
                    },
                    "metadata": {}
                },
                {
                    "output_type": "execute_result",
                    "execution_count": 36,
                    "data": {
                        "application/vnd.dataresource+json": {
                            "schema": {
                                "fields": [
                                    {
                                        "name": "menuID"
                                    },
                                    {
                                        "name": "orderID"
                                    }
                                ]
                            },
                            "data": [
                                {
                                    "menuID": "1",
                                    "orderID": "101"
                                },
                                {
                                    "menuID": "2",
                                    "orderID": "101"
                                },
                                {
                                    "menuID": "3",
                                    "orderID": "102"
                                }
                            ]
                        },
                        "text/html": "<table><tr><th>menuID</th><th>orderID</th></tr><tr><td>1</td><td>101</td></tr><tr><td>2</td><td>101</td></tr><tr><td>3</td><td>102</td></tr></table>"
                    },
                    "metadata": {}
                },
                {
                    "output_type": "execute_result",
                    "execution_count": 36,
                    "data": {
                        "application/vnd.dataresource+json": {
                            "schema": {
                                "fields": [
                                    {
                                        "name": "paymentID"
                                    },
                                    {
                                        "name": "orderID"
                                    },
                                    {
                                        "name": "amount"
                                    },
                                    {
                                        "name": "paymentMethod"
                                    },
                                    {
                                        "name": "paymentDateTime"
                                    }
                                ]
                            },
                            "data": [
                                {
                                    "paymentID": "1",
                                    "orderID": "101",
                                    "amount": "400",
                                    "paymentMethod": "Credit Card",
                                    "paymentDateTime": "2025-03-29 12:45:00.000"
                                },
                                {
                                    "paymentID": "2",
                                    "orderID": "102",
                                    "amount": "200",
                                    "paymentMethod": "Cash",
                                    "paymentDateTime": "2025-03-29 13:30:00.000"
                                }
                            ]
                        },
                        "text/html": "<table><tr><th>paymentID</th><th>orderID</th><th>amount</th><th>paymentMethod</th><th>paymentDateTime</th></tr><tr><td>1</td><td>101</td><td>400</td><td>Credit Card</td><td>2025-03-29 12:45:00.000</td></tr><tr><td>2</td><td>102</td><td>200</td><td>Cash</td><td>2025-03-29 13:30:00.000</td></tr></table>"
                    },
                    "metadata": {}
                },
                {
                    "output_type": "execute_result",
                    "execution_count": 36,
                    "data": {
                        "application/vnd.dataresource+json": {
                            "schema": {
                                "fields": [
                                    {
                                        "name": "employeeID"
                                    },
                                    {
                                        "name": "name"
                                    },
                                    {
                                        "name": "role"
                                    },
                                    {
                                        "name": "shift"
                                    },
                                    {
                                        "name": "salary"
                                    },
                                    {
                                        "name": "currentTables"
                                    },
                                    {
                                        "name": "orderID"
                                    }
                                ]
                            },
                            "data": [
                                {
                                    "employeeID": "1",
                                    "name": "Alice",
                                    "role": "Waiter",
                                    "shift": "Morning",
                                    "salary": "15000",
                                    "currentTables": "2",
                                    "orderID": "101"
                                },
                                {
                                    "employeeID": "2",
                                    "name": "Bob",
                                    "role": "Waiter",
                                    "shift": "Afternoon",
                                    "salary": "16000",
                                    "currentTables": "1",
                                    "orderID": "102"
                                }
                            ]
                        },
                        "text/html": "<table><tr><th>employeeID</th><th>name</th><th>role</th><th>shift</th><th>salary</th><th>currentTables</th><th>orderID</th></tr><tr><td>1</td><td>Alice</td><td>Waiter</td><td>Morning</td><td>15000</td><td>2</td><td>101</td></tr><tr><td>2</td><td>Bob</td><td>Waiter</td><td>Afternoon</td><td>16000</td><td>1</td><td>102</td></tr></table>"
                    },
                    "metadata": {}
                },
                {
                    "output_type": "execute_result",
                    "execution_count": 36,
                    "data": {
                        "application/vnd.dataresource+json": {
                            "schema": {
                                "fields": [
                                    {
                                        "name": "chefID"
                                    },
                                    {
                                        "name": "name"
                                    },
                                    {
                                        "name": "salary"
                                    }
                                ]
                            },
                            "data": [
                                {
                                    "chefID": "1",
                                    "name": "Gordon",
                                    "salary": "50000"
                                },
                                {
                                    "chefID": "2",
                                    "name": "Jamie",
                                    "salary": "45000"
                                }
                            ]
                        },
                        "text/html": "<table><tr><th>chefID</th><th>name</th><th>salary</th></tr><tr><td>1</td><td>Gordon</td><td>50000</td></tr><tr><td>2</td><td>Jamie</td><td>45000</td></tr></table>"
                    },
                    "metadata": {}
                },
                {
                    "output_type": "execute_result",
                    "execution_count": 36,
                    "data": {
                        "application/vnd.dataresource+json": {
                            "schema": {
                                "fields": [
                                    {
                                        "name": "orderID"
                                    },
                                    {
                                        "name": "chefID"
                                    }
                                ]
                            },
                            "data": [
                                {
                                    "orderID": "101",
                                    "chefID": "1"
                                },
                                {
                                    "orderID": "102",
                                    "chefID": "2"
                                }
                            ]
                        },
                        "text/html": "<table><tr><th>orderID</th><th>chefID</th></tr><tr><td>101</td><td>1</td></tr><tr><td>102</td><td>2</td></tr></table>"
                    },
                    "metadata": {}
                },
                {
                    "output_type": "execute_result",
                    "execution_count": 36,
                    "data": {
                        "application/vnd.dataresource+json": {
                            "schema": {
                                "fields": [
                                    {
                                        "name": "supplierID"
                                    },
                                    {
                                        "name": "name"
                                    },
                                    {
                                        "name": "contactInfo"
                                    }
                                ]
                            },
                            "data": [
                                {
                                    "supplierID": "1",
                                    "name": "Fresh Foods Inc.",
                                    "contactInfo": "123-456-7890"
                                },
                                {
                                    "supplierID": "2",
                                    "name": "Best Ingredients Ltd.",
                                    "contactInfo": "987-654-3210"
                                }
                            ]
                        },
                        "text/html": "<table><tr><th>supplierID</th><th>name</th><th>contactInfo</th></tr><tr><td>1</td><td>Fresh Foods Inc.</td><td>123-456-7890</td></tr><tr><td>2</td><td>Best Ingredients Ltd.</td><td>987-654-3210</td></tr></table>"
                    },
                    "metadata": {}
                },
                {
                    "output_type": "execute_result",
                    "execution_count": 36,
                    "data": {
                        "application/vnd.dataresource+json": {
                            "schema": {
                                "fields": [
                                    {
                                        "name": "itemID"
                                    },
                                    {
                                        "name": "name"
                                    },
                                    {
                                        "name": "quantity"
                                    },
                                    {
                                        "name": "supplierID1"
                                    },
                                    {
                                        "name": "supplierID2"
                                    },
                                    {
                                        "name": "lastRestockDate"
                                    }
                                ]
                            },
                            "data": [
                                {
                                    "itemID": "1",
                                    "name": "Rice",
                                    "quantity": "100",
                                    "supplierID1": "1",
                                    "supplierID2": "2",
                                    "lastRestockDate": "2025-03-25 00:00:00.000"
                                },
                                {
                                    "itemID": "2",
                                    "name": "Seaweed",
                                    "quantity": "50",
                                    "supplierID1": "2",
                                    "supplierID2": "NULL",
                                    "lastRestockDate": "2025-03-26 00:00:00.000"
                                },
                                {
                                    "itemID": "3",
                                    "name": "Salmon",
                                    "quantity": "70",
                                    "supplierID1": "1",
                                    "supplierID2": "NULL",
                                    "lastRestockDate": "2025-03-27 00:00:00.000"
                                }
                            ]
                        },
                        "text/html": "<table><tr><th>itemID</th><th>name</th><th>quantity</th><th>supplierID1</th><th>supplierID2</th><th>lastRestockDate</th></tr><tr><td>1</td><td>Rice</td><td>100</td><td>1</td><td>2</td><td>2025-03-25 00:00:00.000</td></tr><tr><td>2</td><td>Seaweed</td><td>50</td><td>2</td><td>NULL</td><td>2025-03-26 00:00:00.000</td></tr><tr><td>3</td><td>Salmon</td><td>70</td><td>1</td><td>NULL</td><td>2025-03-27 00:00:00.000</td></tr></table>"
                    },
                    "metadata": {}
                },
                {
                    "output_type": "execute_result",
                    "execution_count": 36,
                    "data": {
                        "application/vnd.dataresource+json": {
                            "schema": {
                                "fields": [
                                    {
                                        "name": "chefID"
                                    },
                                    {
                                        "name": "itemID"
                                    }
                                ]
                            },
                            "data": [
                                {
                                    "chefID": "1",
                                    "itemID": "1"
                                },
                                {
                                    "chefID": "2",
                                    "itemID": "2"
                                },
                                {
                                    "chefID": "2",
                                    "itemID": "3"
                                }
                            ]
                        },
                        "text/html": "<table><tr><th>chefID</th><th>itemID</th></tr><tr><td>1</td><td>1</td></tr><tr><td>2</td><td>2</td></tr><tr><td>2</td><td>3</td></tr></table>"
                    },
                    "metadata": {}
                }
            ],
            "execution_count": 36
        },
        {
            "cell_type": "code",
            "source": [
                "select * from Customer"
            ],
            "metadata": {
                "azdata_cell_guid": "27f8e7f7-a868-48e8-8224-6274c1a37dab",
                "language": "sql"
            },
            "outputs": [
                {
                    "output_type": "display_data",
                    "data": {
                        "text/html": "(4 rows affected)"
                    },
                    "metadata": {}
                },
                {
                    "output_type": "display_data",
                    "data": {
                        "text/html": "Total execution time: 00:00:00.012"
                    },
                    "metadata": {}
                },
                {
                    "output_type": "execute_result",
                    "metadata": {},
                    "execution_count": 3,
                    "data": {
                        "application/vnd.dataresource+json": {
                            "schema": {
                                "fields": [
                                    {
                                        "name": "customerID"
                                    },
                                    {
                                        "name": "name"
                                    },
                                    {
                                        "name": "age"
                                    }
                                ]
                            },
                            "data": [
                                {
                                    "customerID": "1",
                                    "name": "John Doe",
                                    "age": "30"
                                },
                                {
                                    "customerID": "2",
                                    "name": "Jane Smith",
                                    "age": "25"
                                },
                                {
                                    "customerID": "3",
                                    "name": "Jame Dane",
                                    "age": "24"
                                },
                                {
                                    "customerID": "4",
                                    "name": "Daniel Mason",
                                    "age": "45"
                                }
                            ]
                        },
                        "text/html": [
                            "<table>",
                            "<tr><th>customerID</th><th>name</th><th>age</th></tr>",
                            "<tr><td>1</td><td>John Doe</td><td>30</td></tr>",
                            "<tr><td>2</td><td>Jane Smith</td><td>25</td></tr>",
                            "<tr><td>3</td><td>Jame Dane</td><td>24</td></tr>",
                            "<tr><td>4</td><td>Daniel Mason</td><td>45</td></tr>",
                            "</table>"
                        ]
                    }
                }
            ],
            "execution_count": 3
        }
    ]
}